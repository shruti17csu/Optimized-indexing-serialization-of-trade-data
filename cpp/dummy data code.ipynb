{
 "cells": [
  {
   "cell_type": "code",
   "execution_count": 7,
   "metadata": {},
   "outputs": [
    {
     "name": "stdout",
     "output_type": "stream",
     "text": [
      "File 1 created: file1.txt\n",
      "File 2 created: file2.txt\n",
      "File 3 created: file3.txt\n",
      "File 4 created: file4.txt\n",
      "File 5 created: file5.txt\n",
      "File 6 created: file6.txt\n",
      "File 7 created: file7.txt\n",
      "File 8 created: file8.txt\n",
      "File 9 created: file9.txt\n",
      "File 10 created: file10.txt\n"
     ]
    }
   ],
   "source": [
    "import os\n",
    "import random\n",
    "from datetime import datetime, timedelta\n",
    "\n",
    "# Define the start and end timestamps\n",
    "start_timestamp = datetime(2021, 3, 5, 10, 0, 0, 123)\n",
    "end_timestamp = datetime(2021, 3, 5, 16, 0, 0)\n",
    "\n",
    "# Define the number of files to create\n",
    "num_files = 10\n",
    "\n",
    "# Define the number of entries per file\n",
    "num_entries = 20\n",
    "\n",
    "# Generate and sort the timestamps for each file\n",
    "timestamps = []\n",
    "delta = (end_timestamp - start_timestamp) / num_files\n",
    "for i in range(num_files):\n",
    "    file_timestamps = [start_timestamp + (delta * i) + random.random() * delta for _ in range(num_entries)]\n",
    "    file_timestamps.sort()\n",
    "    timestamps.append(file_timestamps)\n",
    "\n",
    "\n",
    "\n",
    "# Generate the files\n",
    "for i in range(num_files):\n",
    "    file_name = f'file{i + 1}.txt'\n",
    "    with open(file_name, 'w') as file:\n",
    "        for timestamp in timestamps[i]:\n",
    "            formatted_timestamp = timestamp.strftime('%Y-%m-%d %H:%M:%S.%f')[:-3]\n",
    "            file.write(f'{formatted_timestamp}, 46.14, 120, NYSE_ARCA, Ask\\n')\n",
    "    print(f'File {i + 1} created: {file_name}')\n"
   ]
  },
  {
   "cell_type": "code",
   "execution_count": null,
   "metadata": {},
   "outputs": [],
   "source": []
  }
 ],
 "metadata": {
  "kernelspec": {
   "display_name": "Python 3",
   "language": "python",
   "name": "python3"
  },
  "language_info": {
   "codemirror_mode": {
    "name": "ipython",
    "version": 3
   },
   "file_extension": ".py",
   "mimetype": "text/x-python",
   "name": "python",
   "nbconvert_exporter": "python",
   "pygments_lexer": "ipython3",
   "version": "3.7.3"
  }
 },
 "nbformat": 4,
 "nbformat_minor": 4
}
